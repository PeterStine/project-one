{
 "cells": [
  {
   "cell_type": "code",
   "execution_count": 2,
   "id": "aefe32c9",
   "metadata": {},
   "outputs": [],
   "source": [
    "import numpy as np\n",
    "import pandas as pd\n",
    "from pathlib import Path"
   ]
  },
  {
   "cell_type": "code",
   "execution_count": 3,
   "id": "5f3006de",
   "metadata": {},
   "outputs": [
    {
     "name": "stdout",
     "output_type": "stream",
     "text": [
      "..\\data\\merged_data.csv\n"
     ]
    }
   ],
   "source": [
    "# Read in the CSV file\n",
    "pthmerged = Path('../data','merged_data.csv')\n",
    "print(pthmerged)"
   ]
  },
  {
   "cell_type": "code",
   "execution_count": 8,
   "id": "04f2d783",
   "metadata": {},
   "outputs": [
    {
     "data": {
      "text/plain": [
       "Index(['State', 'LSLs per 100k people', 'violent crime', 'murder', 'rape2',\n",
       "       'rape3', 'robbery', 'agg assault', 'ppty crime', 'burglary', 'theft',\n",
       "       'vehicle theft', 'theft_log', 'vehicle theft_log',\n",
       "       'LSLs per 100k people_log'],\n",
       "      dtype='object')"
      ]
     },
     "execution_count": 8,
     "metadata": {},
     "output_type": "execute_result"
    }
   ],
   "source": [
    "\n",
    "\n",
    "# Read in the CSV file\n",
    "pthmerged = Path('data/','merged_data.csv')\n",
    "dfmerged  = pd.read_csv(pthmerged)\n",
    "\n",
    "# Rename the dataframe\n",
    "dfmerged = dfmerged.rename({'LSLs per 100k people ':'LSLs per 100k people'})\n",
    "\n",
    "# Transform and replace theft data with a logarithm of itself\n",
    "dfmerged['theft_log'] = np.log(dfmerged['theft'])\n",
    "\n",
    "# Transform and replace vehicle theft data with a logarithm of itself\n",
    "dfmerged['vehicle theft_log']=np.log(dfmerged['vehicle theft'])\n",
    "\n",
    "# Transform and replace the data containing the number of Lead Service Lines / 100k people\n",
    "dfmerged['LSLs per 100k people_log']=np.log(dfmerged['LSLs per 100k people'])\n",
    "\n",
    "#\n",
    "# mean_lsl=dfmerged['LSLs per 100k people'].mean()\n",
    "# max_lsl=dfmerged['LSLs per 100k people'].max()\n",
    "# min_lsl=dfmerged['LSLs per 100k people'].min()\n",
    "# diff_lsl=max_lsl-min_lsl\n",
    "# print(mean_lsl)\n",
    "# dfmerged['LSLs per 100k people_mn']=(dfmerged['LSLs per 100k people']-mean_lsl)/diff_lsl\n",
    "# dfmerged['LSLs per 100k people_minmax']=(dfmerged['LSLs per 100k people']-min_lsl)/diff_lsl\n",
    "dfmerged.columns\n",
    "# dfmerged"
   ]
  },
  {
   "cell_type": "code",
   "execution_count": 9,
   "id": "3a549cfd",
   "metadata": {},
   "outputs": [
    {
     "ename": "ValueError",
     "evalue": "could not convert string to float: 'Alabama'",
     "output_type": "error",
     "traceback": [
      "\u001b[1;31m---------------------------------------------------------------------------\u001b[0m",
      "\u001b[1;31mValueError\u001b[0m                                Traceback (most recent call last)",
      "Cell \u001b[1;32mIn[9], line 1\u001b[0m\n\u001b[1;32m----> 1\u001b[0m dfmerged\u001b[39m.\u001b[39;49mcorr()\n",
      "File \u001b[1;32mc:\\Users\\peter\\AppData\\Local\\Programs\\Python\\Python311\\Lib\\site-packages\\pandas\\core\\frame.py:10054\u001b[0m, in \u001b[0;36mDataFrame.corr\u001b[1;34m(self, method, min_periods, numeric_only)\u001b[0m\n\u001b[0;32m  10052\u001b[0m cols \u001b[39m=\u001b[39m data\u001b[39m.\u001b[39mcolumns\n\u001b[0;32m  10053\u001b[0m idx \u001b[39m=\u001b[39m cols\u001b[39m.\u001b[39mcopy()\n\u001b[1;32m> 10054\u001b[0m mat \u001b[39m=\u001b[39m data\u001b[39m.\u001b[39;49mto_numpy(dtype\u001b[39m=\u001b[39;49m\u001b[39mfloat\u001b[39;49m, na_value\u001b[39m=\u001b[39;49mnp\u001b[39m.\u001b[39;49mnan, copy\u001b[39m=\u001b[39;49m\u001b[39mFalse\u001b[39;49;00m)\n\u001b[0;32m  10056\u001b[0m \u001b[39mif\u001b[39;00m method \u001b[39m==\u001b[39m \u001b[39m\"\u001b[39m\u001b[39mpearson\u001b[39m\u001b[39m\"\u001b[39m:\n\u001b[0;32m  10057\u001b[0m     correl \u001b[39m=\u001b[39m libalgos\u001b[39m.\u001b[39mnancorr(mat, minp\u001b[39m=\u001b[39mmin_periods)\n",
      "File \u001b[1;32mc:\\Users\\peter\\AppData\\Local\\Programs\\Python\\Python311\\Lib\\site-packages\\pandas\\core\\frame.py:1837\u001b[0m, in \u001b[0;36mDataFrame.to_numpy\u001b[1;34m(self, dtype, copy, na_value)\u001b[0m\n\u001b[0;32m   1835\u001b[0m \u001b[39mif\u001b[39;00m dtype \u001b[39mis\u001b[39;00m \u001b[39mnot\u001b[39;00m \u001b[39mNone\u001b[39;00m:\n\u001b[0;32m   1836\u001b[0m     dtype \u001b[39m=\u001b[39m np\u001b[39m.\u001b[39mdtype(dtype)\n\u001b[1;32m-> 1837\u001b[0m result \u001b[39m=\u001b[39m \u001b[39mself\u001b[39;49m\u001b[39m.\u001b[39;49m_mgr\u001b[39m.\u001b[39;49mas_array(dtype\u001b[39m=\u001b[39;49mdtype, copy\u001b[39m=\u001b[39;49mcopy, na_value\u001b[39m=\u001b[39;49mna_value)\n\u001b[0;32m   1838\u001b[0m \u001b[39mif\u001b[39;00m result\u001b[39m.\u001b[39mdtype \u001b[39mis\u001b[39;00m \u001b[39mnot\u001b[39;00m dtype:\n\u001b[0;32m   1839\u001b[0m     result \u001b[39m=\u001b[39m np\u001b[39m.\u001b[39marray(result, dtype\u001b[39m=\u001b[39mdtype, copy\u001b[39m=\u001b[39m\u001b[39mFalse\u001b[39;00m)\n",
      "File \u001b[1;32mc:\\Users\\peter\\AppData\\Local\\Programs\\Python\\Python311\\Lib\\site-packages\\pandas\\core\\internals\\managers.py:1732\u001b[0m, in \u001b[0;36mBlockManager.as_array\u001b[1;34m(self, dtype, copy, na_value)\u001b[0m\n\u001b[0;32m   1730\u001b[0m         arr\u001b[39m.\u001b[39mflags\u001b[39m.\u001b[39mwriteable \u001b[39m=\u001b[39m \u001b[39mFalse\u001b[39;00m\n\u001b[0;32m   1731\u001b[0m \u001b[39melse\u001b[39;00m:\n\u001b[1;32m-> 1732\u001b[0m     arr \u001b[39m=\u001b[39m \u001b[39mself\u001b[39;49m\u001b[39m.\u001b[39;49m_interleave(dtype\u001b[39m=\u001b[39;49mdtype, na_value\u001b[39m=\u001b[39;49mna_value)\n\u001b[0;32m   1733\u001b[0m     \u001b[39m# The underlying data was copied within _interleave, so no need\u001b[39;00m\n\u001b[0;32m   1734\u001b[0m     \u001b[39m# to further copy if copy=True or setting na_value\u001b[39;00m\n\u001b[0;32m   1736\u001b[0m \u001b[39mif\u001b[39;00m na_value \u001b[39mis\u001b[39;00m \u001b[39mnot\u001b[39;00m lib\u001b[39m.\u001b[39mno_default:\n",
      "File \u001b[1;32mc:\\Users\\peter\\AppData\\Local\\Programs\\Python\\Python311\\Lib\\site-packages\\pandas\\core\\internals\\managers.py:1794\u001b[0m, in \u001b[0;36mBlockManager._interleave\u001b[1;34m(self, dtype, na_value)\u001b[0m\n\u001b[0;32m   1792\u001b[0m     \u001b[39melse\u001b[39;00m:\n\u001b[0;32m   1793\u001b[0m         arr \u001b[39m=\u001b[39m blk\u001b[39m.\u001b[39mget_values(dtype)\n\u001b[1;32m-> 1794\u001b[0m     result[rl\u001b[39m.\u001b[39;49mindexer] \u001b[39m=\u001b[39m arr\n\u001b[0;32m   1795\u001b[0m     itemmask[rl\u001b[39m.\u001b[39mindexer] \u001b[39m=\u001b[39m \u001b[39m1\u001b[39m\n\u001b[0;32m   1797\u001b[0m \u001b[39mif\u001b[39;00m \u001b[39mnot\u001b[39;00m itemmask\u001b[39m.\u001b[39mall():\n",
      "\u001b[1;31mValueError\u001b[0m: could not convert string to float: 'Alabama'"
     ]
    }
   ],
   "source": [
    "try:\n",
    "    dfmerged.corr()\n",
    "catch:\n"
   ]
  },
  {
   "cell_type": "code",
   "execution_count": null,
   "id": "956317c0",
   "metadata": {},
   "outputs": [
    {
     "data": {
      "text/plain": [
       "Index(['State', 'LSLs per 100k people', 'violent crime', 'murder', 'rape2',\n",
       "       'rape3', 'robbery', 'agg assault', 'ppty crime', 'burglary', 'theft',\n",
       "       'vehicle theft', 'theft_log', 'vehicle theft_log',\n",
       "       'LSLs per 100k people_log'],\n",
       "      dtype='object')"
      ]
     },
     "execution_count": 4,
     "metadata": {},
     "output_type": "execute_result"
    }
   ],
   "source": [
    "# dfmerged.info()\n",
    "dfmerged.columns"
   ]
  },
  {
   "cell_type": "code",
   "execution_count": null,
   "id": "280d7a08",
   "metadata": {},
   "outputs": [
    {
     "ename": "NameError",
     "evalue": "name 'dfmerged' is not defined",
     "output_type": "error",
     "traceback": [
      "\u001b[1;31m---------------------------------------------------------------------------\u001b[0m",
      "\u001b[1;31mNameError\u001b[0m                                 Traceback (most recent call last)",
      "Cell \u001b[1;32mIn[1], line 1\u001b[0m\n\u001b[1;32m----> 1\u001b[0m dfmerged\u001b[39m.\u001b[39mplot\u001b[39m.\u001b[39mscatter(\u001b[39m'\u001b[39m\u001b[39mLSLs per 100k people\u001b[39m\u001b[39m'\u001b[39m,\u001b[39m'\u001b[39m\u001b[39mviolent crime\u001b[39m\u001b[39m'\u001b[39m)\n\u001b[0;32m      2\u001b[0m plt\u001b[39m.\u001b[39msavefig(\u001b[39m'\u001b[39m\u001b[39mmy_plot.png\u001b[39m\u001b[39m'\u001b[39m)\n",
      "\u001b[1;31mNameError\u001b[0m: name 'dfmerged' is not defined"
     ]
    }
   ],
   "source": [
    "dfmerged.plot.scatter('LSLs per 100k people','violent crime')\n",
    "dfmerged.savefig('my_plot.png')"
   ]
  },
  {
   "cell_type": "code",
   "execution_count": null,
   "id": "263126cc",
   "metadata": {},
   "outputs": [
    {
     "data": {
      "text/plain": [
       "<Axes: xlabel='LSLs per 100k people_log', ylabel='vehicle theft'>"
      ]
     },
     "execution_count": 21,
     "metadata": {},
     "output_type": "execute_result"
    },
    {
     "data": {
      "image/png": "[encoded data removed]",
      "text/plain": [
       "<Figure size 640x480 with 1 Axes>"
      ]
     },
     "metadata": {},
     "output_type": "display_data"
    }
   ],
   "source": [
    "dfmerged.plot.scatter('LSLs per 100k people_log','vehicle theft')"
   ]
  },
  {
   "cell_type": "code",
   "execution_count": null,
   "id": "1162354a",
   "metadata": {},
   "outputs": [
    {
     "data": {
      "text/html": [
       "<div>\n",
       "<style scoped>\n",
       "    .dataframe tbody tr th:only-of-type {\n",
       "        vertical-align: middle;\n",
       "    }\n",
       "\n",
       "    .dataframe tbody tr th {\n",
       "        vertical-align: top;\n",
       "    }\n",
       "\n",
       "    .dataframe thead th {\n",
       "        text-align: right;\n",
       "    }\n",
       "</style>\n",
       "<table border=\"1\" class=\"dataframe\">\n",
       "  <thead>\n",
       "    <tr style=\"text-align: right;\">\n",
       "      <th></th>\n",
       "      <th>State</th>\n",
       "      <th>LSLs per 100k people</th>\n",
       "      <th>violent crime</th>\n",
       "      <th>murder</th>\n",
       "      <th>rape2</th>\n",
       "      <th>rape3</th>\n",
       "      <th>robbery</th>\n",
       "      <th>agg assault</th>\n",
       "      <th>ppty crime</th>\n",
       "      <th>burglary</th>\n",
       "      <th>theft</th>\n",
       "      <th>vehicle theft</th>\n",
       "      <th>theft_log</th>\n",
       "      <th>vehicle theft_log</th>\n",
       "      <th>LSLs per 100k people_log</th>\n",
       "      <th>lsls + violent crime</th>\n",
       "    </tr>\n",
       "  </thead>\n",
       "  <tbody>\n",
       "    <tr>\n",
       "      <th>24</th>\n",
       "      <td>Missouri</td>\n",
       "      <td>5362</td>\n",
       "      <td>519.4</td>\n",
       "      <td>8.8</td>\n",
       "      <td>41.9</td>\n",
       "      <td>30.9</td>\n",
       "      <td>107.8</td>\n",
       "      <td>360.8</td>\n",
       "      <td>2799.1</td>\n",
       "      <td>520.4</td>\n",
       "      <td>1978.4</td>\n",
       "      <td>300.3</td>\n",
       "      <td>7.590044</td>\n",
       "      <td>5.704782</td>\n",
       "      <td>8.587092</td>\n",
       "      <td>2785022.8</td>\n",
       "    </tr>\n",
       "    <tr>\n",
       "      <th>12</th>\n",
       "      <td>Illinois</td>\n",
       "      <td>5302</td>\n",
       "      <td>436.3</td>\n",
       "      <td>8.2</td>\n",
       "      <td>38.3</td>\n",
       "      <td>28.4</td>\n",
       "      <td>139.3</td>\n",
       "      <td>250.5</td>\n",
       "      <td>2049.0</td>\n",
       "      <td>374.9</td>\n",
       "      <td>1518.6</td>\n",
       "      <td>155.5</td>\n",
       "      <td>7.325544</td>\n",
       "      <td>5.046646</td>\n",
       "      <td>8.575839</td>\n",
       "      <td>2313262.6</td>\n",
       "    </tr>\n",
       "    <tr>\n",
       "      <th>21</th>\n",
       "      <td>Michigan</td>\n",
       "      <td>4565</td>\n",
       "      <td>459.0</td>\n",
       "      <td>6.0</td>\n",
       "      <td>71.8</td>\n",
       "      <td>51.5</td>\n",
       "      <td>71.7</td>\n",
       "      <td>309.5</td>\n",
       "      <td>1909.9</td>\n",
       "      <td>398.5</td>\n",
       "      <td>1308.1</td>\n",
       "      <td>203.2</td>\n",
       "      <td>7.176331</td>\n",
       "      <td>5.314191</td>\n",
       "      <td>8.426174</td>\n",
       "      <td>2095335.0</td>\n",
       "    </tr>\n",
       "    <tr>\n",
       "      <th>15</th>\n",
       "      <td>Kansas</td>\n",
       "      <td>5446</td>\n",
       "      <td>380.4</td>\n",
       "      <td>3.8</td>\n",
       "      <td>45.1</td>\n",
       "      <td>33.4</td>\n",
       "      <td>57.5</td>\n",
       "      <td>274.0</td>\n",
       "      <td>2695.5</td>\n",
       "      <td>494.1</td>\n",
       "      <td>1962.9</td>\n",
       "      <td>238.6</td>\n",
       "      <td>7.582178</td>\n",
       "      <td>5.474789</td>\n",
       "      <td>8.602637</td>\n",
       "      <td>2071658.4</td>\n",
       "    </tr>\n",
       "    <tr>\n",
       "      <th>13</th>\n",
       "      <td>Indiana</td>\n",
       "      <td>4274</td>\n",
       "      <td>404.7</td>\n",
       "      <td>6.6</td>\n",
       "      <td>37.7</td>\n",
       "      <td>27.9</td>\n",
       "      <td>110.5</td>\n",
       "      <td>249.9</td>\n",
       "      <td>2589.4</td>\n",
       "      <td>514.0</td>\n",
       "      <td>1853.3</td>\n",
       "      <td>222.1</td>\n",
       "      <td>7.524723</td>\n",
       "      <td>5.403128</td>\n",
       "      <td>8.360305</td>\n",
       "      <td>1729687.8</td>\n",
       "    </tr>\n",
       "  </tbody>\n",
       "</table>\n",
       "</div>"
      ],
      "text/plain": [
       "       State  LSLs per 100k people  violent crime  murder  rape2  rape3  \\\n",
       "24  Missouri                  5362          519.4     8.8   41.9   30.9   \n",
       "12  Illinois                  5302          436.3     8.2   38.3   28.4   \n",
       "21  Michigan                  4565          459.0     6.0   71.8   51.5   \n",
       "15    Kansas                  5446          380.4     3.8   45.1   33.4   \n",
       "13   Indiana                  4274          404.7     6.6   37.7   27.9   \n",
       "\n",
       "    robbery  agg assault  ppty crime  burglary   theft  vehicle theft  \\\n",
       "24    107.8        360.8      2799.1     520.4  1978.4          300.3   \n",
       "12    139.3        250.5      2049.0     374.9  1518.6          155.5   \n",
       "21     71.7        309.5      1909.9     398.5  1308.1          203.2   \n",
       "15     57.5        274.0      2695.5     494.1  1962.9          238.6   \n",
       "13    110.5        249.9      2589.4     514.0  1853.3          222.1   \n",
       "\n",
       "    theft_log  vehicle theft_log  LSLs per 100k people_log  \\\n",
       "24   7.590044           5.704782                  8.587092   \n",
       "12   7.325544           5.046646                  8.575839   \n",
       "21   7.176331           5.314191                  8.426174   \n",
       "15   7.582178           5.474789                  8.602637   \n",
       "13   7.524723           5.403128                  8.360305   \n",
       "\n",
       "    lsls + violent crime  \n",
       "24             2785022.8  \n",
       "12             2313262.6  \n",
       "21             2095335.0  \n",
       "15             2071658.4  \n",
       "13             1729687.8  "
      ]
     },
     "execution_count": 23,
     "metadata": {},
     "output_type": "execute_result"
    }
   ],
   "source": [
    "# what state is furthest right and highest?\n",
    "dfmerged['lsls + violent crime']=dfmerged['LSLs per 100k people']*dfmerged['violent crime']\n",
    "# dfmerged.head()\n",
    "# dfmerged=\n",
    "# dfmerged.columns\n",
    "dfmerged=dfmerged.sort_values(by='lsls + violent crime',ascending=False)\n",
    "dfmerged.head()"
   ]
  },
  {
   "cell_type": "code",
   "execution_count": null,
   "id": "976a135e",
   "metadata": {},
   "outputs": [],
   "source": [
    "#so...Missouri appears to have the highest coorelation of violent crime and lsls!\n",
    "#can we find more information at a more granular level on Missouri?"
   ]
  }
 ],
 "metadata": {
  "kernelspec": {
   "display_name": "Python 3 (ipykernel)",
   "language": "python",
   "name": "python3"
  },
  "language_info": {
   "codemirror_mode": {
    "name": "ipython",
    "version": 3
   },
   "file_extension": ".py",
   "mimetype": "text/x-python",
   "name": "python",
   "nbconvert_exporter": "python",
   "pygments_lexer": "ipython3",
   "version": "3.11.2"
  }
 },
 "nbformat": 4,
 "nbformat_minor": 5
}
