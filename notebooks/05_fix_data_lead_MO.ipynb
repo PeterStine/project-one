{
 "cells": [
  {
   "cell_type": "code",
   "execution_count": 1,
   "id": "a706f8fd",
   "metadata": {},
   "outputs": [],
   "source": [
    "import numpy as np\n",
    "import pandas as pd\n",
    "from pathlib import Path"
   ]
  },
  {
   "cell_type": "code",
   "execution_count": 2,
   "id": "5e69b649",
   "metadata": {},
   "outputs": [
    {
     "name": "stdout",
     "output_type": "stream",
     "text": [
      "..\\missouri\\missouri.csv\n"
     ]
    },
    {
     "data": {
      "text/html": [
       "<div>\n",
       "<style scoped>\n",
       "    .dataframe tbody tr th:only-of-type {\n",
       "        vertical-align: middle;\n",
       "    }\n",
       "\n",
       "    .dataframe tbody tr th {\n",
       "        vertical-align: top;\n",
       "    }\n",
       "\n",
       "    .dataframe thead th {\n",
       "        text-align: right;\n",
       "    }\n",
       "</style>\n",
       "<table border=\"1\" class=\"dataframe\">\n",
       "  <thead>\n",
       "    <tr style=\"text-align: right;\">\n",
       "      <th></th>\n",
       "      <th>DOC_CTRL_NUM</th>\n",
       "      <th>REPORTING_YEAR</th>\n",
       "      <th>CHEM_NAME</th>\n",
       "      <th>CITY_NAME</th>\n",
       "      <th>STATE_ABBR</th>\n",
       "      <th>TOTAL_RELEASE</th>\n",
       "    </tr>\n",
       "  </thead>\n",
       "  <tbody>\n",
       "    <tr>\n",
       "      <th>0</th>\n",
       "      <td>1301200995619</td>\n",
       "      <td>2001</td>\n",
       "      <td>Lead</td>\n",
       "      <td>ELDON</td>\n",
       "      <td>MO</td>\n",
       "      <td>NaN</td>\n",
       "    </tr>\n",
       "    <tr>\n",
       "      <th>1</th>\n",
       "      <td>1309207804307</td>\n",
       "      <td>2009</td>\n",
       "      <td>Lead</td>\n",
       "      <td>BLOOMSDALE</td>\n",
       "      <td>MO</td>\n",
       "      <td>0.00</td>\n",
       "    </tr>\n",
       "    <tr>\n",
       "      <th>2</th>\n",
       "      <td>1308206372447</td>\n",
       "      <td>2008</td>\n",
       "      <td>Lead</td>\n",
       "      <td>SEDALIA</td>\n",
       "      <td>MO</td>\n",
       "      <td>NaN</td>\n",
       "    </tr>\n",
       "    <tr>\n",
       "      <th>3</th>\n",
       "      <td>1314212304947</td>\n",
       "      <td>2014</td>\n",
       "      <td>Lead</td>\n",
       "      <td>KANSAS CITY</td>\n",
       "      <td>MO</td>\n",
       "      <td>NaN</td>\n",
       "    </tr>\n",
       "    <tr>\n",
       "      <th>4</th>\n",
       "      <td>1305203614173</td>\n",
       "      <td>2005</td>\n",
       "      <td>Lead</td>\n",
       "      <td>SEDALIA</td>\n",
       "      <td>MO</td>\n",
       "      <td>0.68</td>\n",
       "    </tr>\n",
       "  </tbody>\n",
       "</table>\n",
       "</div>"
      ],
      "text/plain": [
       "    DOC_CTRL_NUM  REPORTING_YEAR CHEM_NAME    CITY_NAME STATE_ABBR  \\\n",
       "0  1301200995619            2001      Lead        ELDON         MO   \n",
       "1  1309207804307            2009      Lead   BLOOMSDALE         MO   \n",
       "2  1308206372447            2008      Lead      SEDALIA         MO   \n",
       "3  1314212304947            2014      Lead  KANSAS CITY         MO   \n",
       "4  1305203614173            2005      Lead      SEDALIA         MO   \n",
       "\n",
       "   TOTAL_RELEASE  \n",
       "0            NaN  \n",
       "1           0.00  \n",
       "2            NaN  \n",
       "3            NaN  \n",
       "4           0.68  "
      ]
     },
     "execution_count": 2,
     "metadata": {},
     "output_type": "execute_result"
    }
   ],
   "source": [
    "pth=Path('../missouri','missouri.csv')\n",
    "print(pth)\n",
    "df=pd.read_csv(pth)\n",
    "df.head()"
   ]
  },
  {
   "cell_type": "code",
   "execution_count": 3,
   "id": "8a9650a9",
   "metadata": {},
   "outputs": [
    {
     "data": {
      "text/html": [
       "<div>\n",
       "<style scoped>\n",
       "    .dataframe tbody tr th:only-of-type {\n",
       "        vertical-align: middle;\n",
       "    }\n",
       "\n",
       "    .dataframe tbody tr th {\n",
       "        vertical-align: top;\n",
       "    }\n",
       "\n",
       "    .dataframe thead th {\n",
       "        text-align: right;\n",
       "    }\n",
       "</style>\n",
       "<table border=\"1\" class=\"dataframe\">\n",
       "  <thead>\n",
       "    <tr style=\"text-align: right;\">\n",
       "      <th></th>\n",
       "      <th>DOC_CTRL_NUM</th>\n",
       "      <th>REPORTING_YEAR</th>\n",
       "      <th>CHEM_NAME</th>\n",
       "      <th>CITY_NAME</th>\n",
       "      <th>STATE_ABBR</th>\n",
       "      <th>TOTAL_RELEASE</th>\n",
       "    </tr>\n",
       "  </thead>\n",
       "  <tbody>\n",
       "    <tr>\n",
       "      <th>0</th>\n",
       "      <td>1301200995619</td>\n",
       "      <td>2001</td>\n",
       "      <td>Lead</td>\n",
       "      <td>ELDON</td>\n",
       "      <td>MO</td>\n",
       "      <td>NaN</td>\n",
       "    </tr>\n",
       "    <tr>\n",
       "      <th>1</th>\n",
       "      <td>1309207804307</td>\n",
       "      <td>2009</td>\n",
       "      <td>Lead</td>\n",
       "      <td>BLOOMSDALE</td>\n",
       "      <td>MO</td>\n",
       "      <td>0.00</td>\n",
       "    </tr>\n",
       "    <tr>\n",
       "      <th>2</th>\n",
       "      <td>1308206372447</td>\n",
       "      <td>2008</td>\n",
       "      <td>Lead</td>\n",
       "      <td>SEDALIA</td>\n",
       "      <td>MO</td>\n",
       "      <td>NaN</td>\n",
       "    </tr>\n",
       "    <tr>\n",
       "      <th>3</th>\n",
       "      <td>1314212304947</td>\n",
       "      <td>2014</td>\n",
       "      <td>Lead</td>\n",
       "      <td>KANSAS CITY</td>\n",
       "      <td>MO</td>\n",
       "      <td>NaN</td>\n",
       "    </tr>\n",
       "    <tr>\n",
       "      <th>4</th>\n",
       "      <td>1305203614173</td>\n",
       "      <td>2005</td>\n",
       "      <td>Lead</td>\n",
       "      <td>SEDALIA</td>\n",
       "      <td>MO</td>\n",
       "      <td>0.68</td>\n",
       "    </tr>\n",
       "  </tbody>\n",
       "</table>\n",
       "</div>"
      ],
      "text/plain": [
       "    DOC_CTRL_NUM  REPORTING_YEAR CHEM_NAME    CITY_NAME STATE_ABBR  \\\n",
       "0  1301200995619            2001      Lead        ELDON         MO   \n",
       "1  1309207804307            2009      Lead   BLOOMSDALE         MO   \n",
       "2  1308206372447            2008      Lead      SEDALIA         MO   \n",
       "3  1314212304947            2014      Lead  KANSAS CITY         MO   \n",
       "4  1305203614173            2005      Lead      SEDALIA         MO   \n",
       "\n",
       "   TOTAL_RELEASE  \n",
       "0            NaN  \n",
       "1           0.00  \n",
       "2            NaN  \n",
       "3            NaN  \n",
       "4           0.68  "
      ]
     },
     "execution_count": 3,
     "metadata": {},
     "output_type": "execute_result"
    }
   ],
   "source": [
    "#delete data after 2016\n",
    "# df.info()\n",
    "df=df.loc[(df['REPORTING_YEAR']<=2016)]\n",
    "df.head()"
   ]
  },
  {
   "cell_type": "code",
   "execution_count": 4,
   "id": "467bb5a7",
   "metadata": {},
   "outputs": [
    {
     "data": {
      "text/plain": [
       "CITY_NAME\n",
       "ADVANCE       1\n",
       "AMSTERDAM     1\n",
       "ANDERSON      1\n",
       "ARNOLD       20\n",
       "AVA          16\n",
       "dtype: int64"
      ]
     },
     "execution_count": 4,
     "metadata": {},
     "output_type": "execute_result"
    }
   ],
   "source": [
    "# make new dataset with only city_name and count of rows for each city name\n",
    "dfcitydischarges=df.groupby('CITY_NAME').size()\n",
    "dfcitydischarges.head()"
   ]
  },
  {
   "cell_type": "code",
   "execution_count": 7,
   "id": "f4a6886a",
   "metadata": {},
   "outputs": [],
   "source": [
    "dfcitydischarges.to_csv('../missouri/lead_discharges_clean.csv',index=True)"
   ]
  },
  {
   "cell_type": "code",
   "execution_count": 8,
   "id": "c4f87c5d",
   "metadata": {},
   "outputs": [
    {
     "data": {
      "text/plain": [
       "count    115.000000\n",
       "mean      15.991304\n",
       "std       24.870364\n",
       "min        1.000000\n",
       "25%        3.500000\n",
       "50%       10.000000\n",
       "75%       16.000000\n",
       "max      199.000000\n",
       "dtype: float64"
      ]
     },
     "execution_count": 8,
     "metadata": {},
     "output_type": "execute_result"
    }
   ],
   "source": [
    "dfcitydischarges.describe()"
   ]
  },
  {
   "cell_type": "code",
   "execution_count": null,
   "id": "34350590",
   "metadata": {},
   "outputs": [],
   "source": []
  }
 ],
 "metadata": {
  "kernelspec": {
   "display_name": "Python 3 (ipykernel)",
   "language": "python",
   "name": "python3"
  },
  "language_info": {
   "codemirror_mode": {
    "name": "ipython",
    "version": 3
   },
   "file_extension": ".py",
   "mimetype": "text/x-python",
   "name": "python",
   "nbconvert_exporter": "python",
   "pygments_lexer": "ipython3",
   "version": "3.10.11"
  }
 },
 "nbformat": 4,
 "nbformat_minor": 5
}
