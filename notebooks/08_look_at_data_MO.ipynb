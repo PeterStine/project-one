{
 "cells": [
  {
   "cell_type": "code",
   "execution_count": 2,
   "id": "aefe32c9",
   "metadata": {},
   "outputs": [],
   "source": [
    "import numpy as np\n",
    "import pandas as pd\n",
    "from pathlib import Path"
   ]
  },
  {
   "cell_type": "code",
   "execution_count": 3,
   "id": "04f2d783",
   "metadata": {},
   "outputs": [
    {
     "data": {
      "text/html": [
       "<div>\n",
       "<style scoped>\n",
       "    .dataframe tbody tr th:only-of-type {\n",
       "        vertical-align: middle;\n",
       "    }\n",
       "\n",
       "    .dataframe tbody tr th {\n",
       "        vertical-align: top;\n",
       "    }\n",
       "\n",
       "    .dataframe thead th {\n",
       "        text-align: right;\n",
       "    }\n",
       "</style>\n",
       "<table border=\"1\" class=\"dataframe\">\n",
       "  <thead>\n",
       "    <tr style=\"text-align: right;\">\n",
       "      <th></th>\n",
       "      <th>city</th>\n",
       "      <th>number lead discharges</th>\n",
       "      <th>vc per capita</th>\n",
       "    </tr>\n",
       "  </thead>\n",
       "  <tbody>\n",
       "    <tr>\n",
       "      <th>0</th>\n",
       "      <td>Advance</td>\n",
       "      <td>1.0</td>\n",
       "      <td>0.000730</td>\n",
       "    </tr>\n",
       "    <tr>\n",
       "      <th>1</th>\n",
       "      <td>Anderson</td>\n",
       "      <td>1.0</td>\n",
       "      <td>0.006566</td>\n",
       "    </tr>\n",
       "    <tr>\n",
       "      <th>2</th>\n",
       "      <td>Arnold</td>\n",
       "      <td>20.0</td>\n",
       "      <td>0.001864</td>\n",
       "    </tr>\n",
       "    <tr>\n",
       "      <th>3</th>\n",
       "      <td>Ava</td>\n",
       "      <td>16.0</td>\n",
       "      <td>0.002394</td>\n",
       "    </tr>\n",
       "    <tr>\n",
       "      <th>4</th>\n",
       "      <td>Belton</td>\n",
       "      <td>3.0</td>\n",
       "      <td>0.003064</td>\n",
       "    </tr>\n",
       "  </tbody>\n",
       "</table>\n",
       "</div>"
      ],
      "text/plain": [
       "       city  number lead discharges  vc per capita\n",
       "0   Advance                     1.0       0.000730\n",
       "1  Anderson                     1.0       0.006566\n",
       "2    Arnold                    20.0       0.001864\n",
       "3       Ava                    16.0       0.002394\n",
       "4    Belton                     3.0       0.003064"
      ]
     },
     "execution_count": 3,
     "metadata": {},
     "output_type": "execute_result"
    }
   ],
   "source": [
    "pthmerged=Path('../missouri','merged_data.csv')\n",
    "dfmerged=pd.read_csv(pthmerged)\n",
    "# dfmerged['number lead discharges_log']=np.log(dfmerged['number lead discharges'])\n",
    "# dfmerged=dfmerged.rename({'LSLs per 100k people ':'LSLs per 100k people'})\n",
    "# dfmerged['theft_log']=np.log(dfmerged['theft'])\n",
    "# dfmerged['vehicle theft_log']=np.log(dfmerged['vehicle theft'])\n",
    "# dfmerged['LSLs per 100k people_log']=np.log(dfmerged['LSLs per 100k people'])\n",
    "#\n",
    "# mean_lsl=dfmerged['number lead discharges'].mean()\n",
    "# max_lsl=dfmerged['number lead discharges'].max()\n",
    "# min_lsl=dfmerged['number lead discharges'].min()\n",
    "# diff_lsl=max_lsl-min_lsl\n",
    "# print(mean_lsl)\n",
    "# dfmerged['number lead discharges1']=(dfmerged['number lead discharges']-mean_lsl)/diff_lsl\n",
    "# dfmerged['number lead discharges2']=(dfmerged['number lead discharges']-min_lsl)/diff_lsl\n",
    "dfmerged.columns\n",
    "dfmerged.head()"
   ]
  },
  {
   "cell_type": "code",
   "execution_count": 4,
   "id": "3a549cfd",
   "metadata": {},
   "outputs": [
    {
     "name": "stderr",
     "output_type": "stream",
     "text": [
      "C:\\Users\\rober\\AppData\\Local\\Temp\\ipykernel_17280\\4054466057.py:1: FutureWarning: The default value of numeric_only in DataFrame.corr is deprecated. In a future version, it will default to False. Select only valid columns or specify the value of numeric_only to silence this warning.\n",
      "  dfmerged.corr()\n"
     ]
    },
    {
     "data": {
      "text/html": [
       "<div>\n",
       "<style scoped>\n",
       "    .dataframe tbody tr th:only-of-type {\n",
       "        vertical-align: middle;\n",
       "    }\n",
       "\n",
       "    .dataframe tbody tr th {\n",
       "        vertical-align: top;\n",
       "    }\n",
       "\n",
       "    .dataframe thead th {\n",
       "        text-align: right;\n",
       "    }\n",
       "</style>\n",
       "<table border=\"1\" class=\"dataframe\">\n",
       "  <thead>\n",
       "    <tr style=\"text-align: right;\">\n",
       "      <th></th>\n",
       "      <th>number lead discharges</th>\n",
       "      <th>vc per capita</th>\n",
       "    </tr>\n",
       "  </thead>\n",
       "  <tbody>\n",
       "    <tr>\n",
       "      <th>number lead discharges</th>\n",
       "      <td>1.000000</td>\n",
       "      <td>0.267958</td>\n",
       "    </tr>\n",
       "    <tr>\n",
       "      <th>vc per capita</th>\n",
       "      <td>0.267958</td>\n",
       "      <td>1.000000</td>\n",
       "    </tr>\n",
       "  </tbody>\n",
       "</table>\n",
       "</div>"
      ],
      "text/plain": [
       "                        number lead discharges  vc per capita\n",
       "number lead discharges                1.000000       0.267958\n",
       "vc per capita                         0.267958       1.000000"
      ]
     },
     "execution_count": 4,
     "metadata": {},
     "output_type": "execute_result"
    }
   ],
   "source": [
    "dfmerged.corr()"
   ]
  },
  {
   "cell_type": "code",
   "execution_count": 5,
   "id": "956317c0",
   "metadata": {},
   "outputs": [
    {
     "data": {
      "text/plain": [
       "Index(['city', 'number lead discharges', 'vc per capita'], dtype='object')"
      ]
     },
     "execution_count": 5,
     "metadata": {},
     "output_type": "execute_result"
    }
   ],
   "source": [
    "# dfmerged.info()\n",
    "dfmerged.columns"
   ]
  },
  {
   "cell_type": "code",
   "execution_count": 6,
   "id": "280d7a08",
   "metadata": {},
   "outputs": [
    {
     "data": {
      "text/plain": [
       "<Axes: xlabel='number lead discharges', ylabel='vc per capita'>"
      ]
     },
     "execution_count": 6,
     "metadata": {},
     "output_type": "execute_result"
    },
    {
     "data": {
      "image/png": "[encoded data removed]",
      "text/plain": [
       "<Figure size 640x480 with 1 Axes>"
      ]
     },
     "metadata": {},
     "output_type": "display_data"
    }
   ],
   "source": [
    "dfmerged.plot.scatter( 'number lead discharges','vc per capita')"
   ]
  },
  {
   "cell_type": "code",
   "execution_count": 7,
   "id": "0c74f865",
   "metadata": {},
   "outputs": [],
   "source": [
    "# conclusion:  we have an r value of .26 in lead discharges to violence.  \n",
    "# not a very good coorelation but at least it is a positive coorelation\n",
    "# there is one point that is very highly coorlated at the far right.\n",
    "# would that point give us any insight?"
   ]
  },
  {
   "cell_type": "code",
   "execution_count": 11,
   "id": "de59646d",
   "metadata": {},
   "outputs": [
    {
     "data": {
      "text/html": [
       "<div>\n",
       "<style scoped>\n",
       "    .dataframe tbody tr th:only-of-type {\n",
       "        vertical-align: middle;\n",
       "    }\n",
       "\n",
       "    .dataframe tbody tr th {\n",
       "        vertical-align: top;\n",
       "    }\n",
       "\n",
       "    .dataframe thead th {\n",
       "        text-align: right;\n",
       "    }\n",
       "</style>\n",
       "<table border=\"1\" class=\"dataframe\">\n",
       "  <thead>\n",
       "    <tr style=\"text-align: right;\">\n",
       "      <th></th>\n",
       "      <th>city</th>\n",
       "      <th>number lead discharges</th>\n",
       "      <th>vc per capita</th>\n",
       "      <th>vc + number lead discharges</th>\n",
       "    </tr>\n",
       "  </thead>\n",
       "  <tbody>\n",
       "    <tr>\n",
       "      <th>37</th>\n",
       "      <td>Kansas City</td>\n",
       "      <td>135.0</td>\n",
       "      <td>0.016546</td>\n",
       "      <td>2.233707</td>\n",
       "    </tr>\n",
       "    <tr>\n",
       "      <th>69</th>\n",
       "      <td>Springfield</td>\n",
       "      <td>52.0</td>\n",
       "      <td>0.013374</td>\n",
       "      <td>0.695467</td>\n",
       "    </tr>\n",
       "    <tr>\n",
       "      <th>63</th>\n",
       "      <td>Sedalia</td>\n",
       "      <td>65.0</td>\n",
       "      <td>0.005526</td>\n",
       "      <td>0.359166</td>\n",
       "    </tr>\n",
       "    <tr>\n",
       "      <th>34</th>\n",
       "      <td>Jefferson City</td>\n",
       "      <td>56.0</td>\n",
       "      <td>0.004030</td>\n",
       "      <td>0.225707</td>\n",
       "    </tr>\n",
       "    <tr>\n",
       "      <th>77</th>\n",
       "      <td>Warrenton</td>\n",
       "      <td>20.0</td>\n",
       "      <td>0.008347</td>\n",
       "      <td>0.166933</td>\n",
       "    </tr>\n",
       "  </tbody>\n",
       "</table>\n",
       "</div>"
      ],
      "text/plain": [
       "              city  number lead discharges  vc per capita  \\\n",
       "37     Kansas City                   135.0       0.016546   \n",
       "69     Springfield                    52.0       0.013374   \n",
       "63         Sedalia                    65.0       0.005526   \n",
       "34  Jefferson City                    56.0       0.004030   \n",
       "77       Warrenton                    20.0       0.008347   \n",
       "\n",
       "    vc + number lead discharges  \n",
       "37                     2.233707  \n",
       "69                     0.695467  \n",
       "63                     0.359166  \n",
       "34                     0.225707  \n",
       "77                     0.166933  "
      ]
     },
     "execution_count": 11,
     "metadata": {},
     "output_type": "execute_result"
    }
   ],
   "source": [
    "dfmerged['vc + number lead discharges']=dfmerged['vc per capita']*dfmerged['number lead discharges']\n",
    "dfmerged=dfmerged.sort_values(by='vc + number lead discharges',ascending=False)\n",
    "dfmerged.head()"
   ]
  },
  {
   "cell_type": "code",
   "execution_count": null,
   "id": "b67c1947",
   "metadata": {},
   "outputs": [],
   "source": [
    "#conclusion:  we see that Kansas City has the highest correlation between the number of lead discharges\n",
    "#and violence per capita"
   ]
  }
 ],
 "metadata": {
  "kernelspec": {
   "display_name": "Python 3 (ipykernel)",
   "language": "python",
   "name": "python3"
  },
  "language_info": {
   "codemirror_mode": {
    "name": "ipython",
    "version": 3
   },
   "file_extension": ".py",
   "mimetype": "text/x-python",
   "name": "python",
   "nbconvert_exporter": "python",
   "pygments_lexer": "ipython3",
   "version": "3.10.11"
  }
 },
 "nbformat": 4,
 "nbformat_minor": 5
}
